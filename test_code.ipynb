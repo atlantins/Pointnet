{
 "cells": [
  {
   "cell_type": "code",
   "execution_count": 14,
   "metadata": {},
   "outputs": [],
   "source": [
    "import torch\n",
    "import torch.nn as nn\n",
    "import torch.nn.functional as F\n",
    "import numpy as np"
   ]
  },
  {
   "cell_type": "code",
   "execution_count": 10,
   "metadata": {},
   "outputs": [],
   "source": [
    "pc1 = torch.tensor([[[1,2,3],[4,5,6]]])\n",
    "pc2 = torch.tensor([[[3,2,1],[6,5,4],[9,8,7]]])"
   ]
  },
  {
   "attachments": {},
   "cell_type": "markdown",
   "metadata": {},
   "source": [
    "点云标准化 pc_noramlization"
   ]
  },
  {
   "cell_type": "code",
   "execution_count": 26,
   "metadata": {},
   "outputs": [
    {
     "name": "stdout",
     "output_type": "stream",
     "text": [
      "[[1 2 3]\n",
      " [4 5 6]]\n"
     ]
    }
   ],
   "source": [
    "pc_normal = pc1[0].numpy()\n",
    "print(pc_normal)"
   ]
  },
  {
   "cell_type": "code",
   "execution_count": 33,
   "metadata": {},
   "outputs": [
    {
     "name": "stdout",
     "output_type": "stream",
     "text": [
      "[2.5 3.5 4.5]\n"
     ]
    }
   ],
   "source": [
    "l = pc_normal.shape[0]\n",
    "center = np.mean(pc_normal, axis=0)\n",
    "print(center)\n",
    "pc = pc_normal - center"
   ]
  },
  {
   "cell_type": "code",
   "execution_count": 34,
   "metadata": {},
   "outputs": [
    {
     "data": {
      "text/plain": [
       "array([6.75, 6.75])"
      ]
     },
     "execution_count": 34,
     "metadata": {},
     "output_type": "execute_result"
    }
   ],
   "source": [
    "np.sum(pc**2,axis=1)\n"
   ]
  },
  {
   "cell_type": "code",
   "execution_count": 35,
   "metadata": {},
   "outputs": [
    {
     "data": {
      "text/plain": [
       "array([2.59807621, 2.59807621])"
      ]
     },
     "execution_count": 35,
     "metadata": {},
     "output_type": "execute_result"
    }
   ],
   "source": [
    "np.sqrt(np.sum(pc**2,axis=1))"
   ]
  },
  {
   "cell_type": "code",
   "execution_count": 37,
   "metadata": {},
   "outputs": [],
   "source": [
    "m = np.max(np.sqrt(np.sum(pc**2,axis=1)))"
   ]
  },
  {
   "cell_type": "code",
   "execution_count": 39,
   "metadata": {},
   "outputs": [
    {
     "name": "stdout",
     "output_type": "stream",
     "text": [
      "[[-0.22222222 -0.22222222 -0.22222222]\n",
      " [ 0.22222222  0.22222222  0.22222222]]\n"
     ]
    }
   ],
   "source": [
    "pc = pc / m \n",
    "print(pc)"
   ]
  },
  {
   "attachments": {},
   "cell_type": "markdown",
   "metadata": {},
   "source": [
    "两个点云之间的距离计算  square_distance"
   ]
  },
  {
   "cell_type": "code",
   "execution_count": null,
   "metadata": {},
   "outputs": [],
   "source": [
    "pc1 = torch.tensor([[[1,2,3],[4,5,6]]])\n",
    "pc2 = torch.tensor([[[3,2,1],[6,5,4],[9,8,7]]])"
   ]
  },
  {
   "cell_type": "code",
   "execution_count": 57,
   "metadata": {},
   "outputs": [],
   "source": [
    "def square_distance_show(src, dst):\n",
    "    #这里计算的是原点（src）集合中N个点到目标点（dst）集合中M点的距离（平方距离，没有开根号），以Batch为单位，输出B×N×M的tensor。\n",
    "    \"\"\"\n",
    "    src^T * dst = xn * xm + yn * ym + zn * zm；\n",
    "    sum(src^2, dim=-1) = xn*xn + yn*yn + zn*zn;\n",
    "    sum(dst^2, dim=-1) = xm*xm + ym*ym + zm*zm;\n",
    "    dist = (xn - xm)^2 + (yn - ym)^2 + (zn - zm)^2\n",
    "         = sum(src**2,dim=-1)+sum(dst**2,dim=-1)-2*src^T*dst\n",
    "    Input:\n",
    "        src: source points, [B, N, C]\n",
    "        dst: target points, [B, M, C]\n",
    "    Output:\n",
    "        dist: per-point square distance, [B, N, M]\n",
    "    \"\"\"\n",
    "    B, N, _ = src.shape\n",
    "    _, M, _ = dst.shape#单下划线表示不关心\n",
    "    dist = -2 * torch.matmul(src, dst.permute(0, 2, 1)) #permute为转置,[B, N, M]\n",
    "    print(dist)\n",
    "    #torch.matmul()也是一种类似于矩阵相乘操作的tensor联乘操作。但是它可以利用python 中的广播机制,处理一些维度不同的tensor结构进行 相乘操作。\n",
    "    dist += torch.sum(src ** 2, -1).view(B, N, 1)#[B, N, M] + [B, N, 1]，dist的每一列都加上后面的列值\n",
    "    print('torch.sum(src ** 2, -1)',torch.sum(src ** 2, -1))\n",
    "    print('torch.sum(src ** 2, -1).shape',torch.sum(src ** 2, -1).shape)\n",
    "    print('torch.sum(src ** 2, -1).view(B, N, 1)',torch.sum(src ** 2, -1).view(B, N, 1))\n",
    "    dist += torch.sum(dst ** 2, -1).view(B, 1, M)#[B, N, M] + [B, 1, M],dist的每一行都加上后面的行值\n",
    "    print(torch.sum(dst ** 2, -1).view(B, 1, M))\n",
    "    A = torch.sum(src ** 2, -1).view(B, N, 1)+torch.sum(dst ** 2, -1).view(B, 1, M)\n",
    "    print('A',A)\n",
    "    print('RESUlt',dist)\n",
    "    return dist"
   ]
  },
  {
   "cell_type": "code",
   "execution_count": 56,
   "metadata": {},
   "outputs": [
    {
     "name": "stdout",
     "output_type": "stream",
     "text": [
      "tensor([[[ -20,  -56,  -92],\n",
      "         [ -56, -146, -236]]])\n",
      "torch.sum(src ** 2, -1) tensor([[14, 77]])\n",
      "torch.sum(src ** 2, -1).shape torch.Size([1, 2])\n",
      "torch.sum(src ** 2, -1).view(B, N, 1) tensor([[[14],\n",
      "         [77]]])\n",
      "tensor([[[ 14,  77, 194]]])\n",
      "A tensor([[[ 28,  91, 208],\n",
      "         [ 91, 154, 271]]])\n",
      "RESU tensor([[[  8,  35, 116],\n",
      "         [ 35,   8,  35]]])\n"
     ]
    },
    {
     "data": {
      "text/plain": [
       "tensor([[[  8,  35, 116],\n",
       "         [ 35,   8,  35]]])"
      ]
     },
     "execution_count": 56,
     "metadata": {},
     "output_type": "execute_result"
    }
   ],
   "source": [
    "# N = 2  M = 3 \n",
    "square_distance_show(pc1,pc2)\n",
    "# 相当于横行的都是某一个A1的x，y，z的平方和\n",
    "# 纵行都是某一个B1的x，y，z的平方和\n",
    "# 所以可以让他们通过维度扩展"
   ]
  },
  {
   "cell_type": "code",
   "execution_count": 71,
   "metadata": {},
   "outputs": [
    {
     "name": "stdout",
     "output_type": "stream",
     "text": [
      "tensor([[14, 77]])\n",
      "tensor([[[14],\n",
      "         [77]]])\n",
      "tensor([[[14, 14, 14],\n",
      "         [77, 77, 77]]])\n",
      "tensor([[[ 14,  77, 194],\n",
      "         [ 14,  77, 194]]])\n",
      "tensor([[[ 28,  91, 208],\n",
      "         [ 91, 154, 271]]])\n"
     ]
    }
   ],
   "source": [
    "pc1 = torch.tensor([[[1,2,3],[4,5,6]]])\n",
    "sum = torch.sum(pc1**2,dim=-1)\n",
    "print(sum)\n",
    "print(sum.view(1,2,1))\n",
    "print(sum.view(1,2,1).repeat(1,1,3))\n",
    "pc2 = torch.tensor([[[3,2,1],[6,5,4],[9,8,7]]])\n",
    "sum1 = torch.sum(pc2**2,dim=-1)\n",
    "print(sum1.view(1,1,3).repeat(1,2,1))\n",
    "print(sum1.view(1,1,3).repeat(1,2,1)+sum.view(1,2,1).repeat(1,1,3))"
   ]
  },
  {
   "attachments": {},
   "cell_type": "markdown",
   "metadata": {},
   "source": [
    "index_points \n",
    " [B,N,C] [B,S] -> [B,S,C]"
   ]
  },
  {
   "cell_type": "code",
   "execution_count": 129,
   "metadata": {},
   "outputs": [],
   "source": [
    "def index_points(points,idx):\n",
    "    B = points.shape[0]\n",
    "    view_shape = list(idx.shape)\n",
    "    view_shape[1:] = [1] * (len(view_shape) - 1) # len(view_shape)固定为2，所以就是改成->[B,1]\n",
    "    repeat_shape = list(idx.shape) # [B,S]\n",
    "    repeat_shape[0] = 1 # [1,S]\n",
    "    batch_indices = torch.arange(B, dtype=torch.long).view(view_shape).repeat(repeat_shape)# 改成[B,S]，其中代表的是每个地方的索引[[0,0],[1,1]]\n",
    "    print('idx',idx)\n",
    "    print('batch_indicies',batch_indices)\n",
    "    new_points = points[batch_indices, idx, :]\n",
    "    # 这个切片操作，batch_indices和idx的个数一定要匹配\n",
    "    print(points[:, idx, :])\n",
    "    return new_points\n",
    "'''\n",
    "如果是points[:, idx, :],那么在这个例子中两个Batch的[0,2]都会被取到,idx相当于取了八次,idx里面有4个数,4*b=8\n",
    "如果是points[batch_dict, idx, :]那么就是取了4次,因为前面指定了每个b\n",
    "'''\n"
   ]
  },
  {
   "cell_type": "code",
   "execution_count": 130,
   "metadata": {},
   "outputs": [
    {
     "name": "stdout",
     "output_type": "stream",
     "text": [
      "torch.Size([2, 3, 3])\n",
      "torch.Size([2, 2])\n"
     ]
    }
   ],
   "source": [
    "pc1 = torch.tensor([[[1,2,3],[4,5,6],[7,8,9]],[[2,2,3],[5,5,6],[8,8,9]]])\n",
    "idx = torch.tensor([[0,2],[1,2]])\n",
    "print(pc1.shape)\n",
    "print(idx.shape)"
   ]
  },
  {
   "cell_type": "code",
   "execution_count": 132,
   "metadata": {},
   "outputs": [],
   "source": [
    "pc1 = torch.tensor([\n",
    "                    [[1,2,3],[4,5,6],[7,8,9]]\n",
    "                    ,[[2,2,3],[5,5,6],[8,8,9]]\n",
    "                    ])\n",
    "idx = torch.tensor([[0,2],[1,2]])"
   ]
  },
  {
   "cell_type": "code",
   "execution_count": 155,
   "metadata": {},
   "outputs": [
    {
     "name": "stdout",
     "output_type": "stream",
     "text": [
      "(2, 3, 3)\n"
     ]
    }
   ],
   "source": [
    "pc1  = [[[1,2,3],[4,5,6],[7,8,9]]\n",
    "        ,[[2,2,3],[5,5,6],[8,8,9]]]\n",
    "pc1 = np.array(pc1)\n",
    "print(pc1.shape)"
   ]
  },
  {
   "cell_type": "code",
   "execution_count": 156,
   "metadata": {},
   "outputs": [
    {
     "data": {
      "text/plain": [
       "1"
      ]
     },
     "execution_count": 156,
     "metadata": {},
     "output_type": "execute_result"
    }
   ],
   "source": [
    "pc1[0][0][0]"
   ]
  },
  {
   "cell_type": "code",
   "execution_count": 157,
   "metadata": {},
   "outputs": [
    {
     "data": {
      "text/plain": [
       "array([[[1, 2, 3],\n",
       "        [4, 5, 6],\n",
       "        [7, 8, 9]],\n",
       "\n",
       "       [[2, 2, 3],\n",
       "        [5, 5, 6],\n",
       "        [8, 8, 9]]])"
      ]
     },
     "execution_count": 157,
     "metadata": {},
     "output_type": "execute_result"
    }
   ],
   "source": [
    "pc1"
   ]
  },
  {
   "cell_type": "code",
   "execution_count": 159,
   "metadata": {},
   "outputs": [
    {
     "data": {
      "text/plain": [
       "1"
      ]
     },
     "execution_count": 159,
     "metadata": {},
     "output_type": "execute_result"
    }
   ],
   "source": [
    "pc1[0,0,0]"
   ]
  },
  {
   "cell_type": "code",
   "execution_count": 160,
   "metadata": {},
   "outputs": [
    {
     "data": {
      "text/plain": [
       "array([[[1, 2, 3],\n",
       "        [7, 8, 9]],\n",
       "\n",
       "       [[2, 2, 3],\n",
       "        [8, 8, 9]]])"
      ]
     },
     "execution_count": 160,
     "metadata": {},
     "output_type": "execute_result"
    }
   ],
   "source": [
    "pc1[:,[0,2],:]"
   ]
  },
  {
   "cell_type": "code",
   "execution_count": 168,
   "metadata": {},
   "outputs": [
    {
     "data": {
      "text/plain": [
       "array([[[[1, 2, 3],\n",
       "         [7, 8, 9]],\n",
       "\n",
       "        [[4, 5, 6],\n",
       "         [7, 8, 9]]],\n",
       "\n",
       "\n",
       "       [[[2, 2, 3],\n",
       "         [8, 8, 9]],\n",
       "\n",
       "        [[5, 5, 6],\n",
       "         [8, 8, 9]]]])"
      ]
     },
     "execution_count": 168,
     "metadata": {},
     "output_type": "execute_result"
    }
   ],
   "source": [
    "pc1[:,[[0,2],[1,2]],:]"
   ]
  },
  {
   "cell_type": "code",
   "execution_count": 169,
   "metadata": {},
   "outputs": [
    {
     "name": "stderr",
     "output_type": "stream",
     "text": [
      "/tmp/ipykernel_336/3192601660.py:1: VisibleDeprecationWarning: Creating an ndarray from ragged nested sequences (which is a list-or-tuple of lists-or-tuples-or ndarrays with different lengths or shapes) is deprecated. If you meant to do this, you must specify 'dtype=object' when creating the ndarray.\n",
      "  pc1[:,[[0,2],[1,2,3]],:]\n"
     ]
    },
    {
     "ename": "IndexError",
     "evalue": "only integers, slices (`:`), ellipsis (`...`), numpy.newaxis (`None`) and integer or boolean arrays are valid indices",
     "output_type": "error",
     "traceback": [
      "\u001b[0;31m---------------------------------------------------------------------------\u001b[0m",
      "\u001b[0;31mIndexError\u001b[0m                                Traceback (most recent call last)",
      "\u001b[1;32m/home/xhj/Pointnet_Pointnet2_pytorch/test_code.ipynb 单元格 25\u001b[0m in \u001b[0;36m1\n\u001b[0;32m----> <a href='vscode-notebook-cell://ssh-remote%2B3090/home/xhj/Pointnet_Pointnet2_pytorch/test_code.ipynb#X52sdnNjb2RlLXJlbW90ZQ%3D%3D?line=0'>1</a>\u001b[0m pc1[:,[[\u001b[39m0\u001b[39m,\u001b[39m2\u001b[39m],[\u001b[39m1\u001b[39m,\u001b[39m2\u001b[39m,\u001b[39m3\u001b[39m]],:]\n",
      "\u001b[0;31mIndexError\u001b[0m: only integers, slices (`:`), ellipsis (`...`), numpy.newaxis (`None`) and integer or boolean arrays are valid indices"
     ]
    }
   ],
   "source": [
    "pc1[:,[[0,2],[1,2,3]],:]"
   ]
  },
  {
   "cell_type": "code",
   "execution_count": 176,
   "metadata": {},
   "outputs": [
    {
     "data": {
      "text/plain": [
       "array([[[1, 2, 3],\n",
       "        [8, 8, 9]],\n",
       "\n",
       "       [[4, 5, 6],\n",
       "        [8, 8, 9]]])"
      ]
     },
     "execution_count": 176,
     "metadata": {},
     "output_type": "execute_result"
    }
   ],
   "source": [
    "pc1[[0,1],[[0,2],[1,2]]]"
   ]
  },
  {
   "cell_type": "code",
   "execution_count": 180,
   "metadata": {},
   "outputs": [
    {
     "data": {
      "text/plain": [
       "array([[[1, 2, 3],\n",
       "        [7, 8, 9]],\n",
       "\n",
       "       [[4, 5, 6],\n",
       "        [7, 8, 9]]])"
      ]
     },
     "execution_count": 180,
     "metadata": {},
     "output_type": "execute_result"
    }
   ],
   "source": [
    "pc1[[0,0],[[0,2],[1,2]]]"
   ]
  },
  {
   "cell_type": "code",
   "execution_count": 181,
   "metadata": {},
   "outputs": [
    {
     "data": {
      "text/plain": [
       "array([[[1, 2, 3],\n",
       "        [7, 8, 9]],\n",
       "\n",
       "       [[5, 5, 6],\n",
       "        [8, 8, 9]]])"
      ]
     },
     "execution_count": 181,
     "metadata": {},
     "output_type": "execute_result"
    }
   ],
   "source": [
    "pc1[[[0],[1]],[[0,2],[1,2]]]"
   ]
  },
  {
   "cell_type": "code",
   "execution_count": 182,
   "metadata": {},
   "outputs": [
    {
     "data": {
      "text/plain": [
       "array([[[1, 2, 3],\n",
       "        [7, 8, 9]],\n",
       "\n",
       "       [[2, 2, 3],\n",
       "        [8, 8, 9]]])"
      ]
     },
     "execution_count": 182,
     "metadata": {},
     "output_type": "execute_result"
    }
   ],
   "source": [
    "pc1[[[0],[1]],[0,2]]"
   ]
  },
  {
   "cell_type": "code",
   "execution_count": 213,
   "metadata": {},
   "outputs": [],
   "source": [
    "def index_points_gather(points, idx):\n",
    "    B, N, C = points.shape\n",
    "    _, S = idx.shape\n",
    "    print(idx)\n",
    "    idx = idx.view(B, S, 1)\n",
    "    print(idx)\n",
    "    idx = idx.repeat(1, 1, C)\n",
    "    print(idx)\n",
    "    new_points = torch.gather(points, dim=1, index=idx)\n",
    "    print(points)\n",
    "    return new_points"
   ]
  },
  {
   "cell_type": "code",
   "execution_count": 210,
   "metadata": {},
   "outputs": [],
   "source": [
    "pc1 = torch.tensor([[[1,2,3],[4,5,6],[7,8,9]],[[2,2,3],[5,5,6],[8,8,9]]])\n",
    "idx = torch.tensor([[0,2],[1,2]])"
   ]
  },
  {
   "cell_type": "code",
   "execution_count": 214,
   "metadata": {},
   "outputs": [
    {
     "name": "stdout",
     "output_type": "stream",
     "text": [
      "tensor([[0, 2],\n",
      "        [1, 2]])\n",
      "tensor([[[0],\n",
      "         [2]],\n",
      "\n",
      "        [[1],\n",
      "         [2]]])\n",
      "tensor([[[0, 0, 0],\n",
      "         [2, 2, 2]],\n",
      "\n",
      "        [[1, 1, 1],\n",
      "         [2, 2, 2]]])\n",
      "tensor([[[1, 2, 3],\n",
      "         [4, 5, 6],\n",
      "         [7, 8, 9]],\n",
      "\n",
      "        [[2, 2, 3],\n",
      "         [5, 5, 6],\n",
      "         [8, 8, 9]]])\n"
     ]
    },
    {
     "data": {
      "text/plain": [
       "tensor([[[1, 2, 3],\n",
       "         [7, 8, 9]],\n",
       "\n",
       "        [[5, 5, 6],\n",
       "         [8, 8, 9]]])"
      ]
     },
     "execution_count": 214,
     "metadata": {},
     "output_type": "execute_result"
    }
   ],
   "source": [
    "index_points_gather(pc1,idx)"
   ]
  },
  {
   "cell_type": "code",
   "execution_count": 220,
   "metadata": {},
   "outputs": [],
   "source": [
    "idx_manul = [[0,2],[0,2],[0,2]]"
   ]
  },
  {
   "cell_type": "code",
   "execution_count": 221,
   "metadata": {},
   "outputs": [
    {
     "ename": "TypeError",
     "evalue": "gather() received an invalid combination of arguments - got (Tensor, index=list, dim=int), but expected one of:\n * (Tensor input, int dim, Tensor index, *, bool sparse_grad, Tensor out)\n * (Tensor input, name dim, Tensor index, *, bool sparse_grad, Tensor out)\n",
     "output_type": "error",
     "traceback": [
      "\u001b[0;31m---------------------------------------------------------------------------\u001b[0m",
      "\u001b[0;31mTypeError\u001b[0m                                 Traceback (most recent call last)",
      "\u001b[1;32m/home/xhj/Pointnet_Pointnet2_pytorch/test_code.ipynb 单元格 34\u001b[0m in \u001b[0;36m1\n\u001b[0;32m----> <a href='vscode-notebook-cell://ssh-remote%2B3090/home/xhj/Pointnet_Pointnet2_pytorch/test_code.ipynb#Y103sdnNjb2RlLXJlbW90ZQ%3D%3D?line=0'>1</a>\u001b[0m n1 \u001b[39m=\u001b[39m torch\u001b[39m.\u001b[39mgather(pc1,dim\u001b[39m=\u001b[39m\u001b[39m0\u001b[39m,index\u001b[39m=\u001b[39midx_manul)\n",
      "\u001b[0;31mTypeError\u001b[0m: gather() received an invalid combination of arguments - got (Tensor, index=list, dim=int), but expected one of:\n * (Tensor input, int dim, Tensor index, *, bool sparse_grad, Tensor out)\n * (Tensor input, name dim, Tensor index, *, bool sparse_grad, Tensor out)\n"
     ]
    }
   ],
   "source": [
    "n1 = torch.gather(pc1,dim=0,index=idx_manul)"
   ]
  },
  {
   "attachments": {},
   "cell_type": "markdown",
   "metadata": {},
   "source": [
    "torch.gather()"
   ]
  },
  {
   "cell_type": "code",
   "execution_count": 198,
   "metadata": {},
   "outputs": [
    {
     "name": "stdout",
     "output_type": "stream",
     "text": [
      "tensor([[1., 2., 3.],\n",
      "        [4., 5., 6.]])\n",
      "torch.Size([2, 3])\n",
      "tensor([[1., 2.],\n",
      "        [6., 4.]])\n",
      "tensor([[1., 5., 6.],\n",
      "        [1., 2., 3.]])\n"
     ]
    }
   ],
   "source": [
    "b = torch.Tensor([[1,2,3],[4,5,6]])\n",
    "print(b)\n",
    "print(b.shape)\n",
    "index_1 = torch.LongTensor([[0,1],[2,0]])\n",
    "index_2 = torch.LongTensor([[0,1,1],[0,0,0]])\n",
    "print (torch.gather(b, dim=1, index=index_1)) # 按照行\n",
    "print (torch.gather(b, dim=0, index=index_2)) # 按照列"
   ]
  },
  {
   "cell_type": "code",
   "execution_count": 203,
   "metadata": {},
   "outputs": [
    {
     "ename": "TypeError",
     "evalue": "gather() received an invalid combination of arguments - got (Tensor, index=list, dim=int), but expected one of:\n * (Tensor input, int dim, Tensor index, *, bool sparse_grad, Tensor out)\n * (Tensor input, name dim, Tensor index, *, bool sparse_grad, Tensor out)\n",
     "output_type": "error",
     "traceback": [
      "\u001b[0;31m---------------------------------------------------------------------------\u001b[0m",
      "\u001b[0;31mTypeError\u001b[0m                                 Traceback (most recent call last)",
      "\u001b[1;32m/home/xhj/Pointnet_Pointnet2_pytorch/test_code.ipynb 单元格 36\u001b[0m in \u001b[0;36m1\n\u001b[0;32m----> <a href='vscode-notebook-cell://ssh-remote%2B3090/home/xhj/Pointnet_Pointnet2_pytorch/test_code.ipynb#Y100sdnNjb2RlLXJlbW90ZQ%3D%3D?line=0'>1</a>\u001b[0m torch\u001b[39m.\u001b[39mgather(pc1,dim\u001b[39m=\u001b[39m\u001b[39m0\u001b[39m,index\u001b[39m=\u001b[39m[[[\u001b[39m1\u001b[39m]]])\n",
      "\u001b[0;31mTypeError\u001b[0m: gather() received an invalid combination of arguments - got (Tensor, index=list, dim=int), but expected one of:\n * (Tensor input, int dim, Tensor index, *, bool sparse_grad, Tensor out)\n * (Tensor input, name dim, Tensor index, *, bool sparse_grad, Tensor out)\n"
     ]
    }
   ],
   "source": [
    "torch.gather(pc1,dim=0,index=[[[1]]])"
   ]
  },
  {
   "cell_type": "code",
   "execution_count": null,
   "metadata": {},
   "outputs": [],
   "source": []
  }
 ],
 "metadata": {
  "kernelspec": {
   "display_name": "openpcdet",
   "language": "python",
   "name": "python3"
  },
  "language_info": {
   "codemirror_mode": {
    "name": "ipython",
    "version": 3
   },
   "file_extension": ".py",
   "mimetype": "text/x-python",
   "name": "python",
   "nbconvert_exporter": "python",
   "pygments_lexer": "ipython3",
   "version": "3.8.13"
  },
  "orig_nbformat": 4
 },
 "nbformat": 4,
 "nbformat_minor": 2
}
